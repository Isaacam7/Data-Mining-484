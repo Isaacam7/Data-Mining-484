{
 "cells": [
  {
   "cell_type": "code",
   "execution_count": 4,
   "metadata": {},
   "outputs": [],
   "source": [
    "import numpy as np\n",
    "import pandas as pd\n",
    "from xgboost import XGBRegressor\n",
    "from sklearn.linear_model import LinearRegression\n",
    "from sklearn.model_selection import train_test_split,GridSearchCV\n",
    "from sklearn.metrics import mean_squared_error\n",
    "\n",
    "df = pd.read_csv('schooldata.csv')\n",
    "df = df.drop('NCESID', axis=1)\n",
    "df = df.drop('YRDATA', axis=1)\n",
    "df = df.drop('Fall_membership', axis=1)"
   ]
  },
  {
   "cell_type": "code",
   "execution_count": 5,
   "metadata": {},
   "outputs": [],
   "source": [
    "rladf = df.drop('ALL_MTH00pctprof',axis=1)\n",
    "rladf = rladf.dropna()"
   ]
  },
  {
   "cell_type": "code",
   "execution_count": 6,
   "metadata": {},
   "outputs": [],
   "source": [
    "rladf['STATE'] = rladf['STATE'].astype(str)\n",
    "rladf_encoded = pd.get_dummies(rladf, columns=['STATE'])"
   ]
  },
  {
   "cell_type": "code",
   "execution_count": null,
   "metadata": {},
   "outputs": [],
   "source": [
    "#train interpretation rla model\n",
    "\n",
    "X = rladf.drop('ALL_RLA00pctprof',axis=1)\n",
    "X[\"STATE\"] = X[\"STATE\"].astype(int)\n",
    "Y = rladf['ALL_RLA00pctprof']\n",
    "\n",
    "X_train, X_test, y_train, y_test = train_test_split(X, Y, test_size=0.2, random_state=1)\n",
    "gsc = GridSearchCV(\n",
    "            estimator=XGBRegressor(),\n",
    "            param_grid={\"learning_rate\":(0.05, 0.10, 0.15,0.25,0.6),\n",
    "                        \"max_depth\": [4, 5, 6, 8,10],\n",
    "                        \"min_child_weight\": [ 1, 3, 5, 7],\n",
    "                        \"gamma\":[ 0.0, 0.1, 0.2],\n",
    "                        \"colsample_bytree\":[ 0.3,0.4,0.5,0.7],},\n",
    "             cv = 2, scoring='neg_mean_squared_error', verbose=2, n_jobs=7)\n",
    "grid_result = gsc.fit(X_train, y_train)"
   ]
  },
  {
   "cell_type": "code",
   "execution_count": 8,
   "metadata": {},
   "outputs": [
    {
     "data": {
      "text/plain": [
       "{'colsample_bytree': 0.7,\n",
       " 'gamma': 0.1,\n",
       " 'learning_rate': 0.1,\n",
       " 'max_depth': 10,\n",
       " 'min_child_weight': 5,\n",
       " 'n_estimators': 5000,\n",
       " 'n_jobs': 7}"
      ]
     },
     "execution_count": 8,
     "metadata": {},
     "output_type": "execute_result"
    }
   ],
   "source": [
    "import pickle as pk\n",
    "#pk.dump(grid_result.best_params_, open(f'rla_best_params.pkl', 'wb'))\n",
    "rla_best_params = pk.load(open('rla_best_params.pkl', 'rb'))\n",
    "rla_best_params[\"n_estimators\"] = 5000\n",
    "rla_best_params[\"n_jobs\"] = 7\n",
    "rla_best_params"
   ]
  },
  {
   "cell_type": "code",
   "execution_count": 9,
   "metadata": {},
   "outputs": [
    {
     "name": "stdout",
     "output_type": "stream",
     "text": [
      "[0]\tvalidation_0-rmse:57.89842\tvalidation_1-rmse:57.94339\n",
      "[100]\tvalidation_0-rmse:7.24729\tvalidation_1-rmse:11.60546\n",
      "[200]\tvalidation_0-rmse:5.45492\tvalidation_1-rmse:11.31468\n",
      "[300]\tvalidation_0-rmse:4.39065\tvalidation_1-rmse:11.21598\n",
      "[400]\tvalidation_0-rmse:3.62428\tvalidation_1-rmse:11.15312\n",
      "[500]\tvalidation_0-rmse:2.98659\tvalidation_1-rmse:11.11357\n",
      "[600]\tvalidation_0-rmse:2.46838\tvalidation_1-rmse:11.08864\n",
      "[700]\tvalidation_0-rmse:2.10810\tvalidation_1-rmse:11.07327\n",
      "[800]\tvalidation_0-rmse:1.77880\tvalidation_1-rmse:11.06139\n",
      "[900]\tvalidation_0-rmse:1.49633\tvalidation_1-rmse:11.05054\n",
      "[1000]\tvalidation_0-rmse:1.26271\tvalidation_1-rmse:11.04119\n",
      "[1100]\tvalidation_0-rmse:1.07597\tvalidation_1-rmse:11.03252\n",
      "[1200]\tvalidation_0-rmse:0.92182\tvalidation_1-rmse:11.02706\n",
      "[1300]\tvalidation_0-rmse:0.80225\tvalidation_1-rmse:11.02323\n",
      "[1400]\tvalidation_0-rmse:0.68772\tvalidation_1-rmse:11.01999\n",
      "[1500]\tvalidation_0-rmse:0.60303\tvalidation_1-rmse:11.01666\n",
      "[1600]\tvalidation_0-rmse:0.52089\tvalidation_1-rmse:11.01452\n",
      "[1700]\tvalidation_0-rmse:0.44755\tvalidation_1-rmse:11.01350\n",
      "[1800]\tvalidation_0-rmse:0.39205\tvalidation_1-rmse:11.01229\n",
      "[1900]\tvalidation_0-rmse:0.33930\tvalidation_1-rmse:11.01163\n",
      "[2000]\tvalidation_0-rmse:0.29528\tvalidation_1-rmse:11.01015\n",
      "[2100]\tvalidation_0-rmse:0.25836\tvalidation_1-rmse:11.00957\n",
      "[2200]\tvalidation_0-rmse:0.22636\tvalidation_1-rmse:11.00885\n",
      "[2300]\tvalidation_0-rmse:0.20252\tvalidation_1-rmse:11.00867\n",
      "[2400]\tvalidation_0-rmse:0.18276\tvalidation_1-rmse:11.00848\n",
      "[2500]\tvalidation_0-rmse:0.16621\tvalidation_1-rmse:11.00810\n",
      "[2600]\tvalidation_0-rmse:0.15825\tvalidation_1-rmse:11.00780\n",
      "[2700]\tvalidation_0-rmse:0.14751\tvalidation_1-rmse:11.00755\n",
      "[2800]\tvalidation_0-rmse:0.13647\tvalidation_1-rmse:11.00749\n",
      "[2900]\tvalidation_0-rmse:0.13238\tvalidation_1-rmse:11.00748\n",
      "[3000]\tvalidation_0-rmse:0.12946\tvalidation_1-rmse:11.00742\n",
      "[3100]\tvalidation_0-rmse:0.12731\tvalidation_1-rmse:11.00741\n",
      "[3200]\tvalidation_0-rmse:0.12351\tvalidation_1-rmse:11.00736\n",
      "[3300]\tvalidation_0-rmse:0.12252\tvalidation_1-rmse:11.00737\n",
      "[3400]\tvalidation_0-rmse:0.12049\tvalidation_1-rmse:11.00732\n",
      "[3500]\tvalidation_0-rmse:0.11955\tvalidation_1-rmse:11.00730\n",
      "[3600]\tvalidation_0-rmse:0.11955\tvalidation_1-rmse:11.00730\n",
      "[3700]\tvalidation_0-rmse:0.11955\tvalidation_1-rmse:11.00730\n",
      "[3800]\tvalidation_0-rmse:0.11924\tvalidation_1-rmse:11.00729\n",
      "[3900]\tvalidation_0-rmse:0.11923\tvalidation_1-rmse:11.00728\n",
      "[4000]\tvalidation_0-rmse:0.11923\tvalidation_1-rmse:11.00728\n",
      "[4100]\tvalidation_0-rmse:0.11797\tvalidation_1-rmse:11.00724\n",
      "[4200]\tvalidation_0-rmse:0.11796\tvalidation_1-rmse:11.00725\n",
      "[4300]\tvalidation_0-rmse:0.11602\tvalidation_1-rmse:11.00727\n",
      "[4400]\tvalidation_0-rmse:0.11602\tvalidation_1-rmse:11.00727\n",
      "[4500]\tvalidation_0-rmse:0.11601\tvalidation_1-rmse:11.00727\n",
      "[4600]\tvalidation_0-rmse:0.11523\tvalidation_1-rmse:11.00727\n",
      "[4700]\tvalidation_0-rmse:0.11440\tvalidation_1-rmse:11.00727\n",
      "[4800]\tvalidation_0-rmse:0.11437\tvalidation_1-rmse:11.00727\n",
      "[4900]\tvalidation_0-rmse:0.11427\tvalidation_1-rmse:11.00727\n",
      "[4999]\tvalidation_0-rmse:0.11415\tvalidation_1-rmse:11.00727\n"
     ]
    }
   ],
   "source": [
    "from IPython.display import clear_output\n",
    "#rla interpretation model\n",
    "\n",
    "X = rladf.drop('ALL_RLA00pctprof',axis=1)\n",
    "X[\"STATE\"] = X[\"STATE\"].astype(int)\n",
    "Y = rladf['ALL_RLA00pctprof']\n",
    "\n",
    "X_train, X_test, y_train, y_test = train_test_split(X, Y, test_size=0.2, random_state=1)\n",
    "\n",
    "X_train, X_val, y_train, y_val  = train_test_split(X_train, y_train, test_size=0.25, random_state=1)\n",
    "\n",
    "clear_output(wait=True)\n",
    "\n",
    "xgb = XGBRegressor(**rla_best_params)\n",
    "rla_model = xgb.fit(X_train, y_train,\n",
    "            eval_set = [(X_train, y_train),\n",
    "                      (X_val, y_val)],verbose=100)\n",
    "\n",
    "xgb_test_predict = rla_model.predict(X_test)\n",
    "pk.dump(rla_model, open(f'xgboost_rla_model.pkl', 'wb'))"
   ]
  },
  {
   "cell_type": "code",
   "execution_count": 10,
   "metadata": {},
   "outputs": [
    {
     "name": "stdout",
     "output_type": "stream",
     "text": [
      "rla model training results\n",
      "root mean squared error: 10.929000396271968\n"
     ]
    }
   ],
   "source": [
    "print(\"rla model training results\")\n",
    "print(f\"root mean squared error: {(mean_squared_error(y_test, xgb_test_predict))**0.5}\")"
   ]
  },
  {
   "cell_type": "code",
   "execution_count": 12,
   "metadata": {},
   "outputs": [
    {
     "name": "stdout",
     "output_type": "stream",
     "text": [
      "[0]\tvalidation_0-rmse:57.99173\tvalidation_1-rmse:58.02087\n",
      "[100]\tvalidation_0-rmse:8.60130\tvalidation_1-rmse:11.63055\n",
      "[200]\tvalidation_0-rmse:6.70179\tvalidation_1-rmse:11.22292\n",
      "[300]\tvalidation_0-rmse:5.33140\tvalidation_1-rmse:11.03776\n",
      "[400]\tvalidation_0-rmse:4.33442\tvalidation_1-rmse:10.93962\n",
      "[500]\tvalidation_0-rmse:3.63342\tvalidation_1-rmse:10.88479\n",
      "[600]\tvalidation_0-rmse:3.06870\tvalidation_1-rmse:10.85025\n",
      "[700]\tvalidation_0-rmse:2.60482\tvalidation_1-rmse:10.82481\n",
      "[800]\tvalidation_0-rmse:2.19911\tvalidation_1-rmse:10.80492\n",
      "[900]\tvalidation_0-rmse:1.85973\tvalidation_1-rmse:10.78872\n",
      "[1000]\tvalidation_0-rmse:1.58644\tvalidation_1-rmse:10.77730\n",
      "[1100]\tvalidation_0-rmse:1.38319\tvalidation_1-rmse:10.77147\n",
      "[1200]\tvalidation_0-rmse:1.19625\tvalidation_1-rmse:10.76509\n",
      "[1300]\tvalidation_0-rmse:1.03374\tvalidation_1-rmse:10.75824\n",
      "[1400]\tvalidation_0-rmse:0.88668\tvalidation_1-rmse:10.75149\n",
      "[1500]\tvalidation_0-rmse:0.76913\tvalidation_1-rmse:10.74818\n",
      "[1600]\tvalidation_0-rmse:0.67902\tvalidation_1-rmse:10.74561\n",
      "[1700]\tvalidation_0-rmse:0.58940\tvalidation_1-rmse:10.74321\n",
      "[1800]\tvalidation_0-rmse:0.50996\tvalidation_1-rmse:10.74074\n",
      "[1900]\tvalidation_0-rmse:0.44756\tvalidation_1-rmse:10.74008\n",
      "[2000]\tvalidation_0-rmse:0.39306\tvalidation_1-rmse:10.73957\n",
      "[2100]\tvalidation_0-rmse:0.34264\tvalidation_1-rmse:10.73871\n",
      "[2200]\tvalidation_0-rmse:0.30152\tvalidation_1-rmse:10.73772\n",
      "[2300]\tvalidation_0-rmse:0.26701\tvalidation_1-rmse:10.73717\n",
      "[2400]\tvalidation_0-rmse:0.23573\tvalidation_1-rmse:10.73647\n",
      "[2500]\tvalidation_0-rmse:0.21310\tvalidation_1-rmse:10.73617\n",
      "[2600]\tvalidation_0-rmse:0.19220\tvalidation_1-rmse:10.73561\n",
      "[2700]\tvalidation_0-rmse:0.17428\tvalidation_1-rmse:10.73545\n",
      "[2800]\tvalidation_0-rmse:0.16508\tvalidation_1-rmse:10.73531\n",
      "[2900]\tvalidation_0-rmse:0.15428\tvalidation_1-rmse:10.73499\n",
      "[3000]\tvalidation_0-rmse:0.15184\tvalidation_1-rmse:10.73498\n",
      "[3100]\tvalidation_0-rmse:0.14742\tvalidation_1-rmse:10.73498\n",
      "[3200]\tvalidation_0-rmse:0.14085\tvalidation_1-rmse:10.73470\n",
      "[3300]\tvalidation_0-rmse:0.13453\tvalidation_1-rmse:10.73459\n",
      "[3400]\tvalidation_0-rmse:0.13267\tvalidation_1-rmse:10.73454\n",
      "[3500]\tvalidation_0-rmse:0.13261\tvalidation_1-rmse:10.73454\n",
      "[3600]\tvalidation_0-rmse:0.13225\tvalidation_1-rmse:10.73453\n",
      "[3700]\tvalidation_0-rmse:0.13225\tvalidation_1-rmse:10.73453\n",
      "[3800]\tvalidation_0-rmse:0.13222\tvalidation_1-rmse:10.73453\n",
      "[3900]\tvalidation_0-rmse:0.13221\tvalidation_1-rmse:10.73453\n",
      "[4000]\tvalidation_0-rmse:0.13220\tvalidation_1-rmse:10.73453\n",
      "[4100]\tvalidation_0-rmse:0.13220\tvalidation_1-rmse:10.73453\n",
      "[4200]\tvalidation_0-rmse:0.13188\tvalidation_1-rmse:10.73452\n",
      "[4300]\tvalidation_0-rmse:0.13092\tvalidation_1-rmse:10.73450\n",
      "[4400]\tvalidation_0-rmse:0.13086\tvalidation_1-rmse:10.73450\n",
      "[4500]\tvalidation_0-rmse:0.13086\tvalidation_1-rmse:10.73450\n",
      "[4600]\tvalidation_0-rmse:0.13070\tvalidation_1-rmse:10.73449\n",
      "[4700]\tvalidation_0-rmse:0.13067\tvalidation_1-rmse:10.73449\n",
      "[4800]\tvalidation_0-rmse:0.13067\tvalidation_1-rmse:10.73449\n",
      "[4900]\tvalidation_0-rmse:0.13067\tvalidation_1-rmse:10.73449\n",
      "[4999]\tvalidation_0-rmse:0.13067\tvalidation_1-rmse:10.73449\n"
     ]
    }
   ],
   "source": [
    "from IPython.display import clear_output\n",
    "\n",
    "#train enconded_math model\n",
    "\n",
    "X = rladf_encoded.drop('ALL_RLA00pctprof',axis=1)\n",
    "Y = rladf_encoded['ALL_RLA00pctprof']\n",
    "\n",
    "X_train, X_test, y_train, y_test = train_test_split(X, Y, test_size=0.2, random_state=200)\n",
    "\n",
    "X_train, X_val, y_train, y_val  = train_test_split(X_train, y_train, test_size=0.25, random_state=200)\n",
    "\n",
    "clear_output(wait=True)\n",
    "\n",
    "e_xgb = XGBRegressor(**rla_best_params)\n",
    "e_rla_model = xgb.fit(X_train, y_train,\n",
    "            eval_set = [(X_train, y_train),\n",
    "                      (X_val, y_val)],verbose=100)\n",
    "e_xgb_test_predict = e_rla_model.predict(X_test)\n",
    "pk.dump(e_rla_model, open(f'xgboost_e_rla_model.pkl', 'wb'))"
   ]
  },
  {
   "cell_type": "code",
   "execution_count": 13,
   "metadata": {},
   "outputs": [
    {
     "name": "stdout",
     "output_type": "stream",
     "text": [
      "encoded rla model training results\n",
      "root mean squared error: 10.596446098926938\n"
     ]
    }
   ],
   "source": [
    "print(\"encoded rla model training results\")\n",
    "print(f\"root mean squared error: {(mean_squared_error(y_test, e_xgb_test_predict))**0.5}\")"
   ]
  },
  {
   "cell_type": "code",
   "execution_count": 14,
   "metadata": {},
   "outputs": [
    {
     "data": {
      "text/plain": [
       "<matplotlib.axes._subplots.AxesSubplot at 0x26a06d06880>"
      ]
     },
     "execution_count": 14,
     "metadata": {},
     "output_type": "execute_result"
    },
    {
     "data": {
      "image/png": "[encoded data removed]",
      "text/plain": [
       "<Figure size 432x288 with 1 Axes>"
      ]
     },
     "metadata": {
      "needs_background": "light"
     },
     "output_type": "display_data"
    }
   ],
   "source": [
    "model = pk.load(open('xgboost_rla_model.pkl', 'rb'))\n",
    "x = pd.Series(model.get_booster().get_score(importance_type= 'total_gain')\n",
    "         ).sort_values()\n",
    "x[-10:].plot(kind='barh',title=\"rla model XGBoost Feature Gain\")"
   ]
  },
  {
   "cell_type": "code",
   "execution_count": 15,
   "metadata": {},
   "outputs": [
    {
     "data": {
      "text/plain": [
       "<matplotlib.axes._subplots.AxesSubplot at 0x26a06e47a90>"
      ]
     },
     "execution_count": 15,
     "metadata": {},
     "output_type": "execute_result"
    },
    {
     "data": {
      "image/png": "[encoded data removed]",
      "text/plain": [
       "<Figure size 432x288 with 1 Axes>"
      ]
     },
     "metadata": {
      "needs_background": "light"
     },
     "output_type": "display_data"
    }
   ],
   "source": [
    "model = pk.load(open('xgboost_e_rla_model.pkl', 'rb'))\n",
    "x = pd.Series(model.get_booster().get_score(importance_type= 'total_gain')\n",
    "         ).sort_values()\n",
    "x[-10:].plot(kind='barh',title=\"enconded rla model XGBoost Feature Gain\")"
   ]
  },
  {
   "cell_type": "code",
   "execution_count": null,
   "metadata": {},
   "outputs": [],
   "source": []
  }
 ],
 "metadata": {
  "kernelspec": {
   "display_name": "Python 3",
   "language": "python",
   "name": "python3"
  },
  "language_info": {
   "codemirror_mode": {
    "name": "ipython",
    "version": 3
   },
   "file_extension": ".py",
   "mimetype": "text/x-python",
   "name": "python",
   "nbconvert_exporter": "python",
   "pygments_lexer": "ipython3",
   "version": "3.8.3"
  }
 },
 "nbformat": 4,
 "nbformat_minor": 5
}
