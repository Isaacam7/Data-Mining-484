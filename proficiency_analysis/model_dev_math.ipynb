{
 "cells": [
  {
   "cell_type": "code",
   "execution_count": 1,
   "metadata": {},
   "outputs": [],
   "source": [
    "import numpy as np\n",
    "import pandas as pd\n",
    "from xgboost import XGBRegressor\n",
    "from sklearn.linear_model import LinearRegression\n",
    "from sklearn.model_selection import train_test_split,GridSearchCV\n",
    "from sklearn.metrics import mean_squared_error\n",
    "\n",
    "\"\"\"\n",
    "with open('numericcols.txt', 'r') as file:\n",
    "    # Read the contents of the file into a list\n",
    "    lines = file.readlines()\n",
    "for i in range(len(lines)):\n",
    "    lines[i] = lines[i].replace('\\n','').replace('.','-')\n",
    "    if lines[i] == 'prop_sal_Business-central-other_support_services':\n",
    "        lines[i] = 'prop_benf_paym_Business/central/other_support_services'\n",
    "        \n",
    "    if lines[i] == 'prop_TCURSSVC_Curr_opex_O-M_plant':\n",
    "        lines[i] = 'prop_TCURSSVC_Curr_opex_O&M_plant'\n",
    "    if lines[i] == 'prop_TCURSSVC_State_pay_O-M_plant_ben':\n",
    "        lines[i] = 'prop_TCURSSVC_State_pay_O&M_plant_ben'\n",
    "        \n",
    "lines.extend(['STATE','ALL_MTH00pctprof','ALL_RLA00pctprof'])\n",
    "\"\"\"\n",
    "\n",
    "df = pd.read_csv('schooldata.csv')\n",
    "df = df.drop('NCESID', axis=1)\n",
    "df = df.drop('YRDATA', axis=1)\n",
    "df = df.drop('Fall_membership', axis=1)\n",
    "\n",
    "mathdf = df.drop('ALL_RLA00pctprof',axis=1)\n",
    "rladf = df.drop('ALL_MTH00pctprof',axis=1)\n",
    "mathdf = mathdf.dropna()\n",
    "rladf = rladf.dropna()"
   ]
  },
  {
   "cell_type": "code",
   "execution_count": 2,
   "metadata": {},
   "outputs": [],
   "source": [
    "mathdf['STATE'] = mathdf['STATE'].astype(str)\n",
    "rladf['STATE'] = rladf['STATE'].astype(str)\n",
    "mathdf_encoded = pd.get_dummies(mathdf, columns=['STATE'])\n",
    "rladf_encoded = pd.get_dummies(rladf, columns=['STATE'])"
   ]
  },
  {
   "cell_type": "code",
   "execution_count": 7,
   "metadata": {},
   "outputs": [
    {
     "name": "stdout",
     "output_type": "stream",
     "text": [
      "Fitting 2 folds for each of 1920 candidates, totalling 3840 fits\n"
     ]
    }
   ],
   "source": [
    "#find best parameters (will use same params) for interpretation model and one_hot_encoding for math\n",
    "\n",
    "X = mathdf.drop('ALL_MTH00pctprof',axis=1)\n",
    "X[\"STATE\"] = X[\"STATE\"].astype(int)\n",
    "Y = mathdf['ALL_MTH00pctprof']\n",
    "\n",
    "X_train, X_test, y_train, y_test = train_test_split(X, Y, test_size=0.2, random_state=1)\n",
    "gsc = GridSearchCV(\n",
    "            estimator=XGBRegressor(),\n",
    "            param_grid={\"learning_rate\":(0.05, 0.10, 0.15,0.25,0.6,1),\n",
    "                        \"max_depth\": [4, 5, 6, 8,10],\n",
    "                        \"min_child_weight\": [ 1, 3, 5, 7],\n",
    "                        \"gamma\":[ 0.0, 0.1, 0.2,0.3],\n",
    "                        \"colsample_bytree\":[ 0.3,0.4,0.5,0.7],},\n",
    "             cv = 2, scoring='neg_mean_squared_error', verbose=2, n_jobs=7)\n",
    "grid_result = gsc.fit(X_train, y_train)"
   ]
  },
  {
   "cell_type": "code",
   "execution_count": 11,
   "metadata": {},
   "outputs": [
    {
     "data": {
      "text/plain": [
       "{'colsample_bytree': 0.5,\n",
       " 'gamma': 0.0,\n",
       " 'learning_rate': 0.1,\n",
       " 'max_depth': 10,\n",
       " 'min_child_weight': 7,\n",
       " 'n_estimators': 5000,\n",
       " 'n_jobs': 7}"
      ]
     },
     "execution_count": 11,
     "metadata": {},
     "output_type": "execute_result"
    }
   ],
   "source": [
    "import pickle as pk\n",
    "#pk.dump(grid_result.best_params_, open(f'mth_best_params.pkl', 'wb'))\n",
    "mth_best_params = pk.load(open('mth_best_params.pkl', 'rb'))\n",
    "mth_best_params[\"n_estimators\"] = 5000\n",
    "mth_best_params[\"n_jobs\"] = 7\n",
    "mth_best_params"
   ]
  },
  {
   "cell_type": "code",
   "execution_count": 17,
   "metadata": {},
   "outputs": [
    {
     "name": "stdout",
     "output_type": "stream",
     "text": [
      "[0]\tvalidation_0-rmse:55.35741\tvalidation_1-rmse:55.40612\n",
      "[100]\tvalidation_0-rmse:8.15059\tvalidation_1-rmse:12.61179\n",
      "[200]\tvalidation_0-rmse:6.37409\tvalidation_1-rmse:12.34237\n",
      "[300]\tvalidation_0-rmse:5.27286\tvalidation_1-rmse:12.24244\n",
      "[400]\tvalidation_0-rmse:4.38931\tvalidation_1-rmse:12.17197\n",
      "[500]\tvalidation_0-rmse:3.71984\tvalidation_1-rmse:12.11936\n",
      "[600]\tvalidation_0-rmse:3.15139\tvalidation_1-rmse:12.08554\n",
      "[700]\tvalidation_0-rmse:2.73748\tvalidation_1-rmse:12.06362\n",
      "[800]\tvalidation_0-rmse:2.31802\tvalidation_1-rmse:12.04398\n",
      "[900]\tvalidation_0-rmse:1.98519\tvalidation_1-rmse:12.02660\n",
      "[1000]\tvalidation_0-rmse:1.72954\tvalidation_1-rmse:12.01568\n",
      "[1100]\tvalidation_0-rmse:1.48128\tvalidation_1-rmse:12.00719\n",
      "[1200]\tvalidation_0-rmse:1.29367\tvalidation_1-rmse:12.00013\n",
      "[1300]\tvalidation_0-rmse:1.15066\tvalidation_1-rmse:11.99393\n",
      "[1400]\tvalidation_0-rmse:1.01740\tvalidation_1-rmse:11.99119\n",
      "[1500]\tvalidation_0-rmse:0.87671\tvalidation_1-rmse:11.98701\n",
      "[1600]\tvalidation_0-rmse:0.76996\tvalidation_1-rmse:11.98372\n",
      "[1700]\tvalidation_0-rmse:0.68191\tvalidation_1-rmse:11.98136\n",
      "[1800]\tvalidation_0-rmse:0.60446\tvalidation_1-rmse:11.97839\n",
      "[1900]\tvalidation_0-rmse:0.53756\tvalidation_1-rmse:11.97625\n",
      "[2000]\tvalidation_0-rmse:0.47438\tvalidation_1-rmse:11.97461\n",
      "[2100]\tvalidation_0-rmse:0.41709\tvalidation_1-rmse:11.97314\n",
      "[2200]\tvalidation_0-rmse:0.36926\tvalidation_1-rmse:11.97215\n",
      "[2300]\tvalidation_0-rmse:0.32471\tvalidation_1-rmse:11.97090\n",
      "[2400]\tvalidation_0-rmse:0.29011\tvalidation_1-rmse:11.97023\n",
      "[2500]\tvalidation_0-rmse:0.25643\tvalidation_1-rmse:11.96961\n",
      "[2600]\tvalidation_0-rmse:0.22679\tvalidation_1-rmse:11.96907\n",
      "[2700]\tvalidation_0-rmse:0.20189\tvalidation_1-rmse:11.96860\n",
      "[2800]\tvalidation_0-rmse:0.17785\tvalidation_1-rmse:11.96851\n",
      "[2900]\tvalidation_0-rmse:0.16018\tvalidation_1-rmse:11.96850\n",
      "[3000]\tvalidation_0-rmse:0.14406\tvalidation_1-rmse:11.96826\n",
      "[3100]\tvalidation_0-rmse:0.12740\tvalidation_1-rmse:11.96812\n",
      "[3200]\tvalidation_0-rmse:0.11204\tvalidation_1-rmse:11.96807\n",
      "[3300]\tvalidation_0-rmse:0.10041\tvalidation_1-rmse:11.96786\n",
      "[3400]\tvalidation_0-rmse:0.08984\tvalidation_1-rmse:11.96768\n",
      "[3500]\tvalidation_0-rmse:0.07976\tvalidation_1-rmse:11.96756\n",
      "[3600]\tvalidation_0-rmse:0.07119\tvalidation_1-rmse:11.96740\n",
      "[3700]\tvalidation_0-rmse:0.06277\tvalidation_1-rmse:11.96727\n",
      "[3800]\tvalidation_0-rmse:0.05552\tvalidation_1-rmse:11.96718\n",
      "[3900]\tvalidation_0-rmse:0.04901\tvalidation_1-rmse:11.96699\n",
      "[4000]\tvalidation_0-rmse:0.04327\tvalidation_1-rmse:11.96691\n",
      "[4100]\tvalidation_0-rmse:0.03801\tvalidation_1-rmse:11.96687\n",
      "[4200]\tvalidation_0-rmse:0.03369\tvalidation_1-rmse:11.96684\n",
      "[4300]\tvalidation_0-rmse:0.03022\tvalidation_1-rmse:11.96680\n",
      "[4400]\tvalidation_0-rmse:0.02641\tvalidation_1-rmse:11.96678\n",
      "[4500]\tvalidation_0-rmse:0.02348\tvalidation_1-rmse:11.96678\n",
      "[4600]\tvalidation_0-rmse:0.02088\tvalidation_1-rmse:11.96673\n",
      "[4700]\tvalidation_0-rmse:0.01853\tvalidation_1-rmse:11.96670\n",
      "[4800]\tvalidation_0-rmse:0.01649\tvalidation_1-rmse:11.96667\n",
      "[4900]\tvalidation_0-rmse:0.01478\tvalidation_1-rmse:11.96666\n",
      "[4999]\tvalidation_0-rmse:0.01319\tvalidation_1-rmse:11.96665\n"
     ]
    }
   ],
   "source": [
    "from IPython.display import clear_output\n",
    "#train math model \n",
    "X = mathdf.drop('ALL_MTH00pctprof',axis=1)\n",
    "X[\"STATE\"] = X[\"STATE\"].astype(int)\n",
    "Y = mathdf['ALL_MTH00pctprof']\n",
    "\n",
    "X_train, X_test, y_train, y_test = train_test_split(X, Y, test_size=0.2, random_state=200)\n",
    "\n",
    "X_train, X_val, y_train, y_val  = train_test_split(X_train, y_train, test_size=0.25, random_state=200)\n",
    "\n",
    "clear_output(wait=True)\n",
    "\n",
    "xgb = XGBRegressor(**mth_best_params)\n",
    "model = xgb.fit(X_train, y_train,\n",
    "            eval_set = [(X_train, y_train),\n",
    "                      (X_val, y_val)],verbose=100)\n",
    "xgb_test_predict = model.predict(X_test)\n",
    "#pk.dump(model, open(f'xgboost_math_model.pkl', 'wb'))"
   ]
  },
  {
   "cell_type": "code",
   "execution_count": 18,
   "metadata": {},
   "outputs": [
    {
     "name": "stdout",
     "output_type": "stream",
     "text": [
      "math model training results\n",
      "root mean squared error: 11.983082584106029\n"
     ]
    }
   ],
   "source": [
    "print(\"math model training results\")\n",
    "print(f\"root mean squared error: {(mean_squared_error(y_test, xgb_test_predict))**0.5}\")"
   ]
  },
  {
   "cell_type": "code",
   "execution_count": 21,
   "metadata": {},
   "outputs": [
    {
     "name": "stdout",
     "output_type": "stream",
     "text": [
      "[0]\tvalidation_0-rmse:55.43663\tvalidation_1-rmse:55.48566\n",
      "[100]\tvalidation_0-rmse:9.34584\tvalidation_1-rmse:12.77128\n",
      "[200]\tvalidation_0-rmse:7.28373\tvalidation_1-rmse:12.34101\n",
      "[300]\tvalidation_0-rmse:5.90408\tvalidation_1-rmse:12.13833\n",
      "[400]\tvalidation_0-rmse:4.93422\tvalidation_1-rmse:12.03642\n",
      "[500]\tvalidation_0-rmse:4.20058\tvalidation_1-rmse:11.97732\n",
      "[600]\tvalidation_0-rmse:3.62514\tvalidation_1-rmse:11.93941\n",
      "[700]\tvalidation_0-rmse:3.13179\tvalidation_1-rmse:11.90831\n",
      "[800]\tvalidation_0-rmse:2.68533\tvalidation_1-rmse:11.87904\n",
      "[900]\tvalidation_0-rmse:2.34938\tvalidation_1-rmse:11.85822\n",
      "[1000]\tvalidation_0-rmse:2.01495\tvalidation_1-rmse:11.84354\n",
      "[1100]\tvalidation_0-rmse:1.76681\tvalidation_1-rmse:11.83368\n",
      "[1200]\tvalidation_0-rmse:1.55585\tvalidation_1-rmse:11.82512\n",
      "[1300]\tvalidation_0-rmse:1.35079\tvalidation_1-rmse:11.81834\n",
      "[1400]\tvalidation_0-rmse:1.18659\tvalidation_1-rmse:11.81397\n",
      "[1500]\tvalidation_0-rmse:1.05093\tvalidation_1-rmse:11.80694\n",
      "[1600]\tvalidation_0-rmse:0.91730\tvalidation_1-rmse:11.80221\n",
      "[1700]\tvalidation_0-rmse:0.81678\tvalidation_1-rmse:11.79902\n",
      "[1800]\tvalidation_0-rmse:0.72445\tvalidation_1-rmse:11.79518\n",
      "[1900]\tvalidation_0-rmse:0.64083\tvalidation_1-rmse:11.79234\n",
      "[2000]\tvalidation_0-rmse:0.56885\tvalidation_1-rmse:11.79004\n",
      "[2100]\tvalidation_0-rmse:0.50118\tvalidation_1-rmse:11.78812\n",
      "[2200]\tvalidation_0-rmse:0.44555\tvalidation_1-rmse:11.78695\n",
      "[2300]\tvalidation_0-rmse:0.40088\tvalidation_1-rmse:11.78524\n",
      "[2400]\tvalidation_0-rmse:0.35710\tvalidation_1-rmse:11.78438\n",
      "[2500]\tvalidation_0-rmse:0.32126\tvalidation_1-rmse:11.78348\n",
      "[2600]\tvalidation_0-rmse:0.28620\tvalidation_1-rmse:11.78299\n",
      "[2700]\tvalidation_0-rmse:0.25449\tvalidation_1-rmse:11.78213\n",
      "[2800]\tvalidation_0-rmse:0.22877\tvalidation_1-rmse:11.78173\n",
      "[2900]\tvalidation_0-rmse:0.20643\tvalidation_1-rmse:11.78119\n",
      "[3000]\tvalidation_0-rmse:0.18248\tvalidation_1-rmse:11.78078\n",
      "[3100]\tvalidation_0-rmse:0.16470\tvalidation_1-rmse:11.78065\n",
      "[3200]\tvalidation_0-rmse:0.14661\tvalidation_1-rmse:11.78018\n",
      "[3300]\tvalidation_0-rmse:0.12846\tvalidation_1-rmse:11.77968\n",
      "[3400]\tvalidation_0-rmse:0.11554\tvalidation_1-rmse:11.77949\n",
      "[3500]\tvalidation_0-rmse:0.10391\tvalidation_1-rmse:11.77935\n",
      "[3600]\tvalidation_0-rmse:0.09137\tvalidation_1-rmse:11.77929\n",
      "[3700]\tvalidation_0-rmse:0.08116\tvalidation_1-rmse:11.77907\n",
      "[3800]\tvalidation_0-rmse:0.07174\tvalidation_1-rmse:11.77890\n",
      "[3900]\tvalidation_0-rmse:0.06442\tvalidation_1-rmse:11.77884\n",
      "[4000]\tvalidation_0-rmse:0.05825\tvalidation_1-rmse:11.77871\n",
      "[4100]\tvalidation_0-rmse:0.05179\tvalidation_1-rmse:11.77865\n",
      "[4200]\tvalidation_0-rmse:0.04630\tvalidation_1-rmse:11.77860\n",
      "[4300]\tvalidation_0-rmse:0.04131\tvalidation_1-rmse:11.77855\n",
      "[4400]\tvalidation_0-rmse:0.03718\tvalidation_1-rmse:11.77848\n",
      "[4500]\tvalidation_0-rmse:0.03378\tvalidation_1-rmse:11.77842\n",
      "[4600]\tvalidation_0-rmse:0.03002\tvalidation_1-rmse:11.77838\n",
      "[4700]\tvalidation_0-rmse:0.02663\tvalidation_1-rmse:11.77835\n",
      "[4800]\tvalidation_0-rmse:0.02390\tvalidation_1-rmse:11.77833\n",
      "[4900]\tvalidation_0-rmse:0.02143\tvalidation_1-rmse:11.77832\n",
      "[4999]\tvalidation_0-rmse:0.01919\tvalidation_1-rmse:11.77829\n"
     ]
    }
   ],
   "source": [
    "from IPython.display import clear_output\n",
    "\n",
    "#train enconded_math model\n",
    "\n",
    "X = mathdf_encoded.drop('ALL_MTH00pctprof',axis=1)\n",
    "Y = mathdf_encoded['ALL_MTH00pctprof']\n",
    "\n",
    "X_train, X_test, y_train, y_test = train_test_split(X, Y, test_size=0.2, random_state=200)\n",
    "\n",
    "X_train, X_val, y_train, y_val  = train_test_split(X_train, y_train, test_size=0.25, random_state=200)\n",
    "\n",
    "clear_output(wait=True)\n",
    "\n",
    "e_xgb = XGBRegressor(**mth_best_params)\n",
    "e_model = xgb.fit(X_train, y_train,\n",
    "            eval_set = [(X_train, y_train),\n",
    "                      (X_val, y_val)],verbose=100)\n",
    "e_xgb_test_predict = e_model.predict(X_test)\n",
    "#pk.dump(e_model, open(f'xgboost_e_math_model.pkl', 'wb'))"
   ]
  },
  {
   "cell_type": "code",
   "execution_count": 22,
   "metadata": {},
   "outputs": [
    {
     "name": "stdout",
     "output_type": "stream",
     "text": [
      "encoded math model training results\n",
      "root mean squared error: 11.810992455865344\n"
     ]
    }
   ],
   "source": [
    "print(\"encoded math model training results\")\n",
    "print(f\"root mean squared error: {(mean_squared_error(y_test, e_xgb_test_predict))**0.5}\")"
   ]
  },
  {
   "cell_type": "code",
   "execution_count": 30,
   "metadata": {},
   "outputs": [
    {
     "data": {
      "text/plain": [
       "<matplotlib.axes._subplots.AxesSubplot at 0x1ebb0fad880>"
      ]
     },
     "execution_count": 30,
     "metadata": {},
     "output_type": "execute_result"
    },
    {
     "data": {
      "image/png": "[encoded data removed]",
      "text/plain": [
       "<Figure size 432x288 with 1 Axes>"
      ]
     },
     "metadata": {
      "needs_background": "light"
     },
     "output_type": "display_data"
    }
   ],
   "source": [
    "model = pk.load(open('xgboost_math_model.pkl', 'rb'))\n",
    "x = pd.Series(model.get_booster().get_score(importance_type= 'total_gain')\n",
    "         ).sort_values()\n",
    "x[-10:].plot(kind='barh',title=\"math model XGBoost Feature Gain\")"
   ]
  },
  {
   "cell_type": "code",
   "execution_count": 31,
   "metadata": {},
   "outputs": [
    {
     "data": {
      "text/plain": [
       "<matplotlib.axes._subplots.AxesSubplot at 0x1ebb243ef70>"
      ]
     },
     "execution_count": 31,
     "metadata": {},
     "output_type": "execute_result"
    },
    {
     "data": {
      "image/png": "[encoded data removed]",
      "text/plain": [
       "<Figure size 432x288 with 1 Axes>"
      ]
     },
     "metadata": {
      "needs_background": "light"
     },
     "output_type": "display_data"
    }
   ],
   "source": [
    "model = pk.load(open('xgboost_e_math_model.pkl', 'rb'))\n",
    "x = pd.Series(model.get_booster().get_score(importance_type= 'total_gain')\n",
    "         ).sort_values()\n",
    "x[-10:].plot(kind='barh',title=\"enconded math model XGBoost Feature Gain\")"
   ]
  },
  {
   "cell_type": "code",
   "execution_count": 29,
   "metadata": {},
   "outputs": [],
   "source": [
    "xgboost_math_model = pk.load(open('xgboost_math_model.pkl', 'rb'))"
   ]
  }
 ],
 "metadata": {
  "kernelspec": {
   "display_name": "Python 3",
   "language": "python",
   "name": "python3"
  },
  "language_info": {
   "codemirror_mode": {
    "name": "ipython",
    "version": 3
   },
   "file_extension": ".py",
   "mimetype": "text/x-python",
   "name": "python",
   "nbconvert_exporter": "python",
   "pygments_lexer": "ipython3",
   "version": "3.8.3"
  }
 },
 "nbformat": 4,
 "nbformat_minor": 4
}
