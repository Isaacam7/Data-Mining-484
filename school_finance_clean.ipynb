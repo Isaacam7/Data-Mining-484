{
 "cells": [
  {
   "cell_type": "code",
   "execution_count": 1,
   "metadata": {},
   "outputs": [],
   "source": [
    "import pandas as pd\n",
    "import pickle as pk\n",
    "import matplotlib as plt"
   ]
  },
  {
   "cell_type": "code",
   "execution_count": 3,
   "metadata": {},
   "outputs": [],
   "source": [
    "schofindata = []\n",
    "math_profdata = []\n",
    "rla_profdata = []\n",
    "rename_dict = {\n",
    "    \"V33\": \"Fall_membership\",\n",
    "    \"C14\": \"Federal_revenue_state_Title_I\",\n",
    "    \"C15\": \"Fed_rev_state_IDEA_Part_B_611_619\",\n",
    "    \"C19\": \"Fed_rev_state_Career_and_tech_ed\",\n",
    "    \"C22\": \"Fed_rev_state_Title_II_Part_A\",\n",
    "    \"C23\": \"Fed_rev_state_Title_IV_Part_A_1\",\n",
    "    \"C26\": \"Fed_rev_state_Title_IV_Part_B\",\n",
    "    \"C27\": \"Fed_rev_state_Title_V_Part_B_2\",\n",
    "    \"B11\": \"Fed_rev_state_Title_III_Part_A\",\n",
    "    \"C20\": \"Fed_rev_state_All_other\",\n",
    "    \"C25\": \"Fed_rev_state_School_meal_progs\",\n",
    "    \"C36\": \"Fed_revenue_Nonspecified\",\n",
    "    \"B10\": \"Direct_fed_rev_Title_VII\",\n",
    "    \"B12\": \"Direct_fed_rev_Title_VI\",\n",
    "    \"B14\": \"Direct_fed_rev_Title_V_Part_B_1\",\n",
    "    \"B13\": \"Direct_fed_rev_All_other\",\n",
    "    \"C01\": \"Gen_formula_assistance\",\n",
    "    \"C04\": \"Staff_improvement_programs\",\n",
    "    \"C05\": \"Special_ed_programs\",\n",
    "    \"C06\": \"Comp_and_basic_skills_progs\",\n",
    "    \"C07\": \"Bilingual_education_progs\",\n",
    "    \"C08\": \"Gifted_and_talented_progs\",\n",
    "    \"C09\": \"Career_and_tech_ed_progs\",\n",
    "    \"C10\": \"School_meal_progs\",\n",
    "    \"C11\": \"Capital_outlay_and_debt_progs\",\n",
    "    \"C12\": \"Transportation_programs\",\n",
    "    \"C13\": \"All_other_rev_state_sources\",\n",
    "    \"C24\": \"Census_state_NCES_local_rev\",\n",
    "    \"C35\": \"State_rev_Nonspecified\",\n",
    "    \"C38\": \"State_payments_Benefits\",\n",
    "    \"C39\": \"State_payments_Nonbenefits\",\n",
    "    \"T02\": \"Parent_gov_contributions\",\n",
    "    \"T06\": \"Property_taxes\",\n",
    "    \"T09\": \"General_sales_or_receipts_taxes\",\n",
    "    \"T15\": \"Public_utility_taxes\",\n",
    "    \"T40\": \"Individual_and_corp_income_taxes\",\n",
    "    \"T99\": \"All_other_taxes\",\n",
    "    \"D11\": \"Rev_from_other_school_sys\",\n",
    "    \"D23\": \"Revenue_from_cities_counties\",\n",
    "    \"A07\": \"Tuition_fees_private_sources\",\n",
    "    \"A08\": \"Transportation_fees_private\",\n",
    "    \"A09\": \"School_lunch_revenues\",\n",
    "    \"A11\": \"Textbook_sales_rentals\",\n",
    "    \"A13\": \"District_activity_receipts\",\n",
    "    \"A15\": \"Student_fees_nonspecified\",\n",
    "    \"A20\": \"Other_sales_service_revenues\",\n",
    "    \"A40\": \"Rents_royalties\",\n",
    "    \"U11\": \"Sale_of_property\",\n",
    "    \"U22\": \"Interest_earnings\",\n",
    "    \"U30\": \"Fines_and_forfeits\",\n",
    "    \"U50\": \"Private_contributions\",\n",
    "    \"U97\": \"Misc_other_local_revenues\",\n",
    "    \"E13\": \"Current_exp-Instruction\",\n",
    "    \"J13\": \"State_pmts-Instruction_benefits\",\n",
    "    \"J12\": \"Own_retirement_sys-Instruction\",\n",
    "    \"J14\": \"State_pmts-Instruction_nonben\",\n",
    "    \"V91\": \"Exhibit-Payments_private_schls\",\n",
    "    \"V92\": \"Exhibit-Payments_charter_schls\",\n",
    "    \"E17\": \"Current_exp-Pupil_support\",\n",
    "    \"E07\": \"Current_exp-Instruction_staff\",\n",
    "    \"E08\": \"Current_exp-General_admin\",\n",
    "    \"E09\": \"Current_exp-School_admin\",\n",
    "    \"F12\": \"Construction\",\n",
    "    \"G15\": \"Purchase_of_land_and_existing_structures\",\n",
    "    \"K09\": \"Instructional_equipment\",\n",
    "    \"K10\": \"Other_equipment\",\n",
    "    \"K11\": \"Nonspecified_equipment\",\n",
    "    \"J99\": \"State_payments_on_behalf_-_Capital_outlay\",\n",
    "    \"L12\": \"Payments_to_state_governments\",\n",
    "    \"M12\": \"Payments_to_local_governments\",\n",
    "    \"Q11\": \"Payments_to_other_school_systems\",\n",
    "    \"I86\": \"Interest_on_school_system_debt\",\n",
    "    \"Z32\": \"Total_sal_and_wages\",\n",
    "    \"Z33\": \"Total_sal_and_wage_Instruction\",\n",
    "    \"V11\": \"Total_sal_and_wage_Pupil_support\",\n",
    "    \"V13\": \"Total_sal_and_wage_Instructional_staff_support\",\n",
    "    \"V15\": \"Total_sal_and_wage_General_administration\",\n",
    "    \"V17\": \"Total_sal_and_wage_School_administration\",\n",
    "    \"V21\": \"Total_sal_and_wage_Operation_and_maintenance_of_plant\",\n",
    "    \"V23\": \"Total_sal_and_wage_Student_transportation\",\n",
    "    \"V37\": \"Total_sal_and_wage_Business/central/other_support_services\",\n",
    "    \"V29\": \"Total_sal_and_wage_Food_services\",\n",
    "    \"Z34\": \"Total_empl_benf_payms\",\n",
    "    \"V10\": \"Total_empl_benf_paymInstruction\",\n",
    "    \"V12\": \"Total_empl_benf_paym_Pupil_support\",\n",
    "    \"V14\": \"Total_empl_benf_paym_Instructional_staff\",\n",
    "    \"V16\": \"Total_empl_benf_paym_General_administration\",\n",
    "    \"V18\": \"Total_empl_benf_paym_School_administration\",\n",
    "    \"V22\": \"Total_empl_benf_paym_Operation_and_maintenance_of_plant\",\n",
    "    \"V24\": \"Total_empl_benf_paym_Student_transportation\",\n",
    "    \"V38\": \"Total_empl_benf_paym_Business/central/other_support_services\",\n",
    "    \"V30\": \"Total_empl_benf_paym_Food_services\",\n",
    "    \"V32\": \"Total_empl_benf_paym_Enterprise_operations\",\n",
    "    \"_19H\": \"LT_debt_outst_begin_FY\",\n",
    "    \"_21F\": \"LT_debt_issued_during_FY\",\n",
    "    \"_31F\": \"LT_debt_retired_during_FY\",\n",
    "    \"_41F\": \"LT_debt_outst_end_FY\",\n",
    "    \"_61V\": \"ST_debt_outst_begin_FY\",\n",
    "    \"_66V\": \"ST_debt_outst_end_FY\",\n",
    "    \"W01\": \"Cash_deposits_end_FY_Debt_svce_funds\",\n",
    "    \"W31\": \"Cash_deposits_end_FY_Bond_funds\",\n",
    "    \"W61\": \"Cash_deposits_end_FY_Other_funds\",\n",
    "    'AR1': 'CARES_Act_Funds_Rev_ESSER_Fund',\n",
    "    'AR2': 'CARES_Act_Funds_Rev_GEER_Fund',\n",
    "    'AR3': 'CARES_Act_Funds_Rev_ESF_RWP_Discretionary_Grant',\n",
    "    'AR4': 'CARES_Act_Funds_Rev_ESF_REM_Discretionary_Grant',\n",
    "    'AR5': 'CARES_Act_Funds_Rev_Project_SERV',\n",
    "    'AR6': 'CARES_Act_Funds_Rev_CRF',\n",
    "    'AE1': 'CARES_Act_Funds_Exp_Current_spending',\n",
    "    'AE2': 'CARES_Act_Funds_Exp_Instructional',\n",
    "    'AE3': 'CARES_Act_Funds_Exp_Support_services',\n",
    "    'AE4': 'CARES_Act_Funds_Exp_Capital_outlay',\n",
    "    'AE5': 'CARES_Act_Funds_Exp_Tech_supplies_purchased_svcs',\n",
    "    'AE6': 'CARES_Act_Funds_Exp_Tech_equipment'\n",
    "}\n",
    "\n"
   ]
  },
  {
   "cell_type": "code",
   "execution_count": 4,
   "metadata": {},
   "outputs": [],
   "source": [
    "#schofin20 is virtual school\n",
    "#no schofin19 since there is no proficiency data for 2019\n",
    "\n",
    "for i in range(12):\n",
    "    if i == 10:\n",
    "        continue\n",
    "    if i == 0:\n",
    "        schofindata.append(pd.read_excel(f\"schofindata/elsec0{9 + i}.xls\").rename(columns=rename_dict))\n",
    "        rla_profdata.append(pd.read_csv(f\"schoprofdata/rla-achievement-lea-sy200{9 + i}-{9 + (i+1)}.csv\",dtype='unicode'))\n",
    "        math_profdata.append(pd.read_csv(f\"schoprofdata/math-achievement-lea-sy200{9 + i}-{9 + (i+1)}.csv\",dtype='unicode'))\n",
    "        continue\n",
    "    schofindata.append(pd.read_excel(f\"schofindata/elsec{9 + i}.xls\").rename(columns=rename_dict))\n",
    "    rla_profdata.append(pd.read_csv(f\"schoprofdata/rla-achievement-lea-sy20{9 + i}-{9 + (i+1)}.csv\",dtype='unicode'))\n",
    "    math_profdata.append(pd.read_csv(f\"schoprofdata/math-achievement-lea-sy20{9 + i}-{9 + (i+1)}.csv\",dtype='unicode'))"
   ]
  },
  {
   "cell_type": "code",
   "execution_count": 5,
   "metadata": {},
   "outputs": [],
   "source": [
    "#Get rid of hidden values like (\"greater than\" or PS )\n",
    "for i in range(10): \n",
    "    if i == 0:\n",
    "        math_profdata[i] = math_profdata[i][~math_profdata[i][f\"ALL_MTH00pctprof_0{9 + i}{9 + (i+1)}\"].str.contains('LE|GE|LT|PS',na=False)]\n",
    "        rla_profdata[i] = rla_profdata[i][~rla_profdata[i][f\"ALL_RLA00pctprof_0{9 + i}{9 + (i+1)}\"].str.contains('LE|GE|LT|PS',na=False)]\n",
    "        continue\n",
    "    try:    \n",
    "        math_profdata[i] = math_profdata[i][~math_profdata[i][f\"ALL_MTH00pctprof_{9 + i}{9 + (i+1)}\"].str.contains('LE|GE|LT|PS',na=False)]\n",
    "    except:\n",
    "        math_profdata[i] = math_profdata[i][~math_profdata[i][f\"ALL_MTH00PCTPROF_{9 + i}{9 + (i+1)}\"].str.contains('LE|GE|LT|PS',na=False)]\n",
    "        math_profdata[i] = math_profdata[i].rename(columns={f\"ALL_MTH00PCTPROF_{9 + i}{9 + (i+1)}\":f\"ALL_MTH00pctprof_{9 + i}{9 + (i+1)}\"})\n",
    "           \n",
    "    try:\n",
    "        rla_profdata[i] = rla_profdata[i][~rla_profdata[i][f\"ALL_RLA00pctprof_{9 + i}{9 + (i+1)}\"].str.contains('LE|GE|LT|PS',na=False)]\n",
    "    except:\n",
    "        rla_profdata[i] = rla_profdata[i][~rla_profdata[i][f\"ALL_RLA00PCTPROF_{9 + i}{9 + (i+1)}\"].str.contains('LE|GE|LT|PS',na=False)]\n",
    "        rla_profdata[i] = rla_profdata[i].rename(columns={f\"ALL_RLA00PCTPROF_{9 + i}{9 + (i+1)}\":f\"ALL_RLA00pctprof_{9 + i}{9 + (i+1)}\"})\n"
   ]
  },
  {
   "cell_type": "code",
   "execution_count": 6,
   "metadata": {},
   "outputs": [],
   "source": [
    "math_profdata[-1] = math_profdata[-1][~math_profdata[-1][\"PCTPROF\"].str.contains('LE|GE|LT|PS',na=False)].dropna()\n",
    "rla_profdata[-1] = rla_profdata[-1][~rla_profdata[-1][\"PCTPROF\"].str.contains('LE|GE|LT|PS',na=False)].dropna()\n"
   ]
  },
  {
   "cell_type": "code",
   "execution_count": 7,
   "metadata": {},
   "outputs": [],
   "source": [
    "#for the next sections when a range is given, assign the middle of the number as the proficiency percentage,\n",
    "#we can expet this to be mostly accurate since the average range is about 5.\n",
    "for m in range(1,10):\n",
    "    def mathcleafunc(row):\n",
    "        nums = []\n",
    "        if type(row[f\"ALL_MTH00pctprof_{9 + m}{9 + (m+1)}\"]) == str and \"-\" in row[f\"ALL_MTH00pctprof_{9 + m}{9 + (m+1)}\"]:\n",
    "            nums =  row[f\"ALL_MTH00pctprof_{9 + m}{9 + (m+1)}\"].split('-')\n",
    "            row[f\"ALL_MTH00pctprof_{9 + m}{9 + (m+1)}\"] = (int(nums[0]) + int(nums[1])) / 2\n",
    "        return row\n",
    "    \n",
    "    def rlacleafunc(row):\n",
    "        nums = []\n",
    "        if type(row[f\"ALL_RLA00pctprof_{9 + m}{9 + (m+1)}\"]) == str and \"-\" in row[f\"ALL_RLA00pctprof_{9 + m}{9 + (m+1)}\"]:\n",
    "            nums =  row[f\"ALL_RLA00pctprof_{9 + m}{9 + (m+1)}\"].split('-')\n",
    "            row[f\"ALL_RLA00pctprof_{9 + m}{9 + (m+1)}\"] = (int(nums[0]) + int(nums[1])) / 2\n",
    "        return row\n",
    "    \n",
    "    math_profdata[m] = math_profdata[m].apply(mathcleafunc,axis=1) \n",
    "    rla_profdata[m] = rla_profdata[m].apply(rlacleafunc,axis=1)     "
   ]
  },
  {
   "cell_type": "code",
   "execution_count": 8,
   "metadata": {},
   "outputs": [],
   "source": [
    "#specifically for 09\n",
    "def mathcleafunc(row):\n",
    "    nums = []\n",
    "    if type(row[\"ALL_MTH00pctprof_0910\"]) == str and \"-\" in row[\"ALL_MTH00pctprof_0910\"]:\n",
    "        nums =  row[\"ALL_MTH00pctprof_0910\"].split('-')\n",
    "        row[\"ALL_MTH00pctprof_0910\"] = (int(nums[0]) + int(nums[1])) / 2\n",
    "    return row\n",
    "\n",
    "def rlacleafunc(row):\n",
    "    nums = []\n",
    "    if type(row[\"ALL_RLA00pctprof_0910\"]) == str and \"-\" in row[\"ALL_RLA00pctprof_0910\"]:\n",
    "        nums =  row[\"ALL_RLA00pctprof_0910\"].split('-')\n",
    "        row[\"ALL_RLAH00pctprof_0910\"] = (int(nums[0]) + int(nums[1])) / 2\n",
    "    return row\n",
    "\n",
    "math_profdata[0] = math_profdata[0].apply(mathcleafunc,axis=1) \n",
    "rla_profdata[0] = rla_profdata[0].apply(rlacleafunc,axis=1)     "
   ]
  },
  {
   "cell_type": "code",
   "execution_count": 9,
   "metadata": {},
   "outputs": [],
   "source": [
    "#Do the fix for covid years as well (i forgot to do it in the last cell)\n",
    "def mathcleafunc(row):\n",
    "    nums = []\n",
    "    if type(row[\"PCTPROF\"]) == str and \"-\" in row[\"PCTPROF\"]:\n",
    "        nums =  row[\"PCTPROF\"].split('-')\n",
    "        row[\"PCTPROF\"] = (int(nums[0]) + int(nums[1])) / 2\n",
    "    return row\n",
    "\n",
    "def rlacleafunc(row):\n",
    "    nums = []\n",
    "    if type(row[\"PCTPROF\"]) == str and \"-\" in row[\"PCTPROF\"]:\n",
    "        nums =  row[\"PCTPROF\"].split('-')\n",
    "        row[\"PCTPROF\"] = (int(nums[0]) + int(nums[1])) / 2\n",
    "    return row\n",
    "\n",
    "math_profdata[-1] = math_profdata[-1].apply(mathcleafunc,axis=1) \n",
    "rla_profdata[-1] = rla_profdata[-1].apply(rlacleafunc,axis=1) "
   ]
  },
  {
   "cell_type": "code",
   "execution_count": 10,
   "metadata": {},
   "outputs": [],
   "source": [
    "def fixid(row):\n",
    "    if len(row['NCESID']) < 7:\n",
    "        row['NCESID'] = '0' + row['NCESID']\n",
    "    return row"
   ]
  },
  {
   "cell_type": "code",
   "execution_count": 11,
   "metadata": {},
   "outputs": [],
   "source": [
    "for i in range(11):\n",
    "    math_profdata[i] = math_profdata[i].rename(columns={'LEAID':'NCESID'})\n",
    "    math_profdata[i]['NCESID'] = math_profdata[i]['NCESID'].astype(str)\n",
    "    math_profdata[i] = math_profdata[i].apply(fixid,axis=1)    \n",
    "    \n",
    "    rla_profdata[i] = rla_profdata[i].rename(columns={'LEAID':'NCESID'})\n",
    "    rla_profdata[i]['NCESID'] = rla_profdata[i]['NCESID'].astype(str)\n",
    "    rla_profdata[i] = rla_profdata[i].apply(fixid,axis=1)    "
   ]
  },
  {
   "cell_type": "code",
   "execution_count": 12,
   "metadata": {},
   "outputs": [],
   "source": [
    "#load in the table data\n",
    "tschofindata = []\n",
    "for i in range(12):\n",
    "    if i == 10:\n",
    "        continue\n",
    "    if i == 0:\n",
    "        tschofindata.append(pd.read_excel(f\"schofindata/elsec0{9 + i}t.xls\"))\n",
    "        continue\n",
    "    tschofindata.append(pd.read_excel(f\"schofindata/elsec{9 + i}t.xls\"))\n",
    "    "
   ]
  },
  {
   "cell_type": "code",
   "execution_count": 13,
   "metadata": {},
   "outputs": [],
   "source": [
    "#this is just data for all students combined\n",
    "#if you wanted other categories dont run this!!!\n",
    "math_profdata[-1] = math_profdata[-1].loc[math_profdata[-1][\"CATEGORY\"] == \"ALL\"].loc[math_profdata[-1][\"GRADE\"] == \"00\"]\n",
    "rla_profdata[-1] = rla_profdata[-1].loc[rla_profdata[-1][\"CATEGORY\"] == \"ALL\"].loc[rla_profdata[-1][\"GRADE\"] == \"00\"]"
   ]
  },
  {
   "cell_type": "code",
   "execution_count": 38,
   "metadata": {},
   "outputs": [],
   "source": [
    "#save each individual list of dataframes\n",
    "pk.dump(schofindata, open(f'schofindata.pkl', 'wb'))\n",
    "pk.dump(tschofindata, open(f'tschofindata.pkl', 'wb'))\n",
    "pk.dump(math_profdata, open(f'math_profdata.pkl', 'wb'))\n",
    "pk.dump(rla_profdata, open(f'rla_profdata.pkl', 'wb'))"
   ]
  },
  {
   "cell_type": "code",
   "execution_count": 14,
   "metadata": {},
   "outputs": [],
   "source": [
    "#optional merged dataframes of all 4 (massive, will drop half of the columns anyways since intial testing is for overall proficiency)\n",
    "mergedfs = []\n",
    "for i in range(11):\n",
    "    merge1 = pd.merge(schofindata[i],tschofindata[i],on=\"NCESID\",how=\"inner\")\n",
    "    merge2 = pd.merge(math_profdata[i],rla_profdata[i],on=\"NCESID\",how=\"inner\")\n",
    "    mergedfs.append(pd.merge(merge1,merge2,on=\"NCESID\",how=\"inner\"))"
   ]
  },
  {
   "cell_type": "code",
   "execution_count": 15,
   "metadata": {},
   "outputs": [
    {
     "name": "stdout",
     "output_type": "stream",
     "text": [
      "(12667, 662)\n",
      "(12894, 660)\n",
      "(12862, 660)\n",
      "(12960, 660)\n",
      "(11640, 660)\n",
      "(12817, 662)\n",
      "(12798, 662)\n",
      "(12947, 664)\n",
      "(12554, 728)\n",
      "(12800, 728)\n",
      "(11879, 243)\n"
     ]
    }
   ],
   "source": [
    "for mergedf in mergedfs:\n",
    "    print(mergedf.shape)"
   ]
  },
  {
   "cell_type": "code",
   "execution_count": 28,
   "metadata": {},
   "outputs": [
    {
     "data": {
      "text/plain": [
       "36.00151923209723"
      ]
     },
     "execution_count": 28,
     "metadata": {},
     "output_type": "execute_result"
    }
   ],
   "source": [
    "math_profdata[-1]['PCTPROF'].astype(float).mean()"
   ]
  },
  {
   "cell_type": "code",
   "execution_count": 36,
   "metadata": {},
   "outputs": [
    {
     "data": {
      "text/plain": [
       "43.52487945352264"
      ]
     },
     "execution_count": 36,
     "metadata": {},
     "output_type": "execute_result"
    }
   ],
   "source": [
    "math_profdata[-3]['ALL_MTH00pctprof_1718'].astype(float).mean()"
   ]
  },
  {
   "cell_type": "code",
   "execution_count": 43,
   "metadata": {},
   "outputs": [],
   "source": [
    "pk.dump(mergedfs, open(f'mergedfs.pkl', 'wb'))"
   ]
  },
  {
   "cell_type": "markdown",
   "metadata": {},
   "source": [
    "## Some things I noticed:"
   ]
  },
  {
   "cell_type": "markdown",
   "metadata": {},
   "source": [
    "2009-2010 proficiency data is missing Alabama"
   ]
  }
 ],
 "metadata": {
  "kernelspec": {
   "display_name": "Python 3",
   "language": "python",
   "name": "python3"
  },
  "language_info": {
   "codemirror_mode": {
    "name": "ipython",
    "version": 3
   },
   "file_extension": ".py",
   "mimetype": "text/x-python",
   "name": "python",
   "nbconvert_exporter": "python",
   "pygments_lexer": "ipython3",
   "version": "3.8.3"
  }
 },
 "nbformat": 4,
 "nbformat_minor": 4
}
